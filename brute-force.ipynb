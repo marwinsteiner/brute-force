{
 "cells": [
  {
   "cell_type": "code",
   "id": "initial_id",
   "metadata": {
    "collapsed": true,
    "ExecuteTime": {
     "end_time": "2024-11-29T09:59:48.484256Z",
     "start_time": "2024-11-29T09:59:48.475201Z"
    }
   },
   "source": [
    "import string\n",
    "import random\n",
    "import time\n",
    "from loguru import logger\n",
    "\n",
    "def generate_random_string(length):\n",
    "    all_characters = string.ascii_letters + string.digits + string.punctuation\n",
    "    \n",
    "    random_string = ''.join(random.choice(all_characters) for _ in range(length))\n",
    "    return random_string\n"
   ],
   "outputs": [],
   "execution_count": 6
  },
  {
   "metadata": {
    "ExecuteTime": {
     "end_time": "2024-11-29T09:59:49.293113Z",
     "start_time": "2024-11-29T09:59:49.276222Z"
    }
   },
   "cell_type": "code",
   "source": [
    "class StringGuesser:\n",
    "    def __init__(self, target_string):\n",
    "        self.target_string = target_string\n",
    "        self.all_characters = string.ascii_letters + string.digits + string.punctuation\n",
    "        \n",
    "    def guess(self):\n",
    "        raise NotImplementedError(\"Subclasses must implement guess method\")\n",
    "    \n",
    "    def measure_time(self):\n",
    "        start_time = time.time()\n",
    "        result = self.guess()\n",
    "        end_time = time.time()\n",
    "        return result, end_time - start_time\n",
    "\n",
    "class BruteForceGuesser(StringGuesser):\n",
    "    def guess(self):\n",
    "        length = len(self.target_string)\n",
    "        attempts = 0\n",
    "        \n",
    "        current_guess = ['a'] * length\n",
    "        \n",
    "        while ''.join(current_guess) != self.target_string:\n",
    "            attempts += 1\n",
    "            \n",
    "            for i in range(length - 1, -1, -1):\n",
    "                idx = self.all_characters.index(current_guess[i])\n",
    "                if idx < len(self.all_characters) - 1:\n",
    "                    current_guess[i] = self.all_characters[idx + 1]\n",
    "                    break\n",
    "                else:\n",
    "                    current_guess[i] = self.all_characters[0]\n",
    "        return ''.join(current_guess), attempts\n",
    "        "
   ],
   "id": "d6d5aefdeee9dc1a",
   "outputs": [],
   "execution_count": 7
  },
  {
   "metadata": {
    "jupyter": {
     "is_executing": true
    },
    "ExecuteTime": {
     "start_time": "2024-11-29T10:11:15.990672Z"
    }
   },
   "cell_type": "code",
   "source": [
    "target_length = 8  # start small\n",
    "target_string = generate_random_string(target_length)\n",
    "logger.info(f'Target string: {target_string}')\n",
    "\n",
    "brute_force = BruteForceGuesser(target_string)\n",
    "result, elapsed_time = brute_force.measure_time()\n",
    "guessed_string, attempts = result\n",
    "logger.info(f'Guessed string: {guessed_string}')\n",
    "logger.info(f'Elapsed time: {elapsed_time:.4f} seconds')\n",
    "logger.info(f'Attempts: {attempts}')\n"
   ],
   "id": "1e3e4a10a5431cf7",
   "outputs": [
    {
     "name": "stderr",
     "output_type": "stream",
     "text": [
      "\u001B[32m2024-11-29 10:11:16.000\u001B[0m | \u001B[1mINFO    \u001B[0m | \u001B[36m__main__\u001B[0m:\u001B[36m<module>\u001B[0m:\u001B[36m3\u001B[0m - \u001B[1mTarget string: -o}5=RUS\u001B[0m\n"
     ]
    }
   ],
   "execution_count": null
  },
  {
   "metadata": {},
   "cell_type": "code",
   "outputs": [],
   "execution_count": null,
   "source": "",
   "id": "9266faeb303ac07"
  }
 ],
 "metadata": {
  "kernelspec": {
   "display_name": "Python 3",
   "language": "python",
   "name": "python3"
  },
  "language_info": {
   "codemirror_mode": {
    "name": "ipython",
    "version": 2
   },
   "file_extension": ".py",
   "mimetype": "text/x-python",
   "name": "python",
   "nbconvert_exporter": "python",
   "pygments_lexer": "ipython2",
   "version": "2.7.6"
  }
 },
 "nbformat": 4,
 "nbformat_minor": 5
}
